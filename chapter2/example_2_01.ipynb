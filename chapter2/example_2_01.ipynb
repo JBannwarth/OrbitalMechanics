{
 "cells": [
  {
   "cell_type": "markdown",
   "metadata": {},
   "source": [
    "# Orbital Mechanics for Engineering Students Example 2.1\n",
    "\n",
    "Jeremie X. J. Bannwarth"
   ]
  },
  {
   "cell_type": "markdown",
   "metadata": {},
   "source": [
    "## Question\n",
    "\n",
    "Use the two-body EOM to show why orbiting astronauts experience weightlessness."
   ]
  },
  {
   "cell_type": "markdown",
   "metadata": {},
   "source": [
    "## Answer\n",
    "\n",
    "An astronaut of mass $m_A$ is strapped in a spacecraft of mass $m_S$ in orbit around the earth. $r$ is the distance from the centre of the earth to the spacecraft. The mass of the earth is $M_E$.\n",
    "\n",
    "The force due to gravity is the only force acting on the spacecraft:\n",
    "\n",
    "$$\\mathbf{F}_{S)g} = m_S \\mathbf{a}_S$$\n",
    "\n",
    "where\n",
    "\n",
    "$$\\mathbf{F}_{S)g} = - \\frac{G m_S M_E}{r^2} \\hat{\\mathbf{u}}_r$$\n",
    "\n",
    "Therefore,\n",
    "\n",
    "$$\\mathbf{a}_S = - \\frac{G M_E}{r^2} \\hat{\\mathbf{u}}_r$$\n",
    "\n",
    "$\\hat{\\mathbf{u}}_r$ points from the center of the earth to the space-craft.\n",
    "\n",
    "The total force acting on the astronaut is the gravity force plus the reaction force between the space-craft and the astronaut, $\\mathbf{C}_A$.\n",
    "\n",
    "$$\\mathbf{C}_A + \\mathbf{F}_{A)g} = m_A \\mathbf{a}_A$$\n",
    "\n",
    "where\n",
    "\n",
    "$$\\mathbf{F}_{A)g} = - \\frac{G m_A M_E}{r^2} \\hat{\\mathbf{u}}_r$$\n",
    "\n",
    "Both the astronaut and the spacecraft move together, so $\\mathbf{a}_A = \\mathbf{a}_S$.\n",
    "\n",
    "Therefore,\n",
    "\n",
    "$$ \\mathbf{C}_A - \\frac{G m_A M_E}{r^2} \\hat{\\mathbf{u}}_r = - m_A \\frac{G M_E}{r^2} \\hat{\\mathbf{u}}_r $$\n",
    "\n",
    "which simplifies down to\n",
    "\n",
    "$$\\mathbf{C}_A = \\mathbf{0}$$\n",
    "\n",
    "Therefore there is no force between the astronaut and the spacecraft, which means the astronaut experiences weightlessness."
   ]
  }
 ],
 "metadata": {
  "kernelspec": {
   "display_name": "Python 3",
   "language": "python",
   "name": "python3"
  },
  "language_info": {
   "codemirror_mode": {
    "name": "ipython",
    "version": 3
   },
   "file_extension": ".py",
   "mimetype": "text/x-python",
   "name": "python",
   "nbconvert_exporter": "python",
   "pygments_lexer": "ipython3",
   "version": "3.6.6+"
  }
 },
 "nbformat": 4,
 "nbformat_minor": 2
}