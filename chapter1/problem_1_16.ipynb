{
 "metadata": {
  "language_info": {
   "codemirror_mode": {
    "name": "ipython",
    "version": 3
   },
   "file_extension": ".py",
   "mimetype": "text/x-python",
   "name": "python",
   "nbconvert_exporter": "python",
   "pygments_lexer": "ipython3",
   "version": 3
  },
  "orig_nbformat": 2
 },
 "nbformat": 4,
 "nbformat_minor": 2,
 "cells": [
  {
   "cell_type": "markdown",
   "metadata": {},
   "source": [
    "# Orbital Mechanics for Engineering Students Problem 1.16\n",
    "Jérémie X. J. Bannwarth"
   ]
  },
  {
   "cell_type": "markdown",
   "metadata": {},
   "source": [
    "## Question\n",
    "\n",
    "Substitute Eq. (1.114a) into Eq. (1.113) to prove it is indeed its solution.\n",
    "\n",
    "$$\\ddot{x} + 2\\zeta\\omega_{n}\\dot{x} + \\omega_{n}^2 x = \\frac{F_{0}}{m} \\sin \\omega t \\tag{1.113}$$\n",
    "\n",
    "\\begin{align}\n",
    "x &= e^{-\\zeta \\omega_{n} t} \\left(A \\sin \\omega_{d} t + B \\cos \\omega_{d} t \\right)\\\\\n",
    "&+ \\frac{F_{0}/m}{(\\omega_{n}^2 - \\omega^2)^2 + (2\\omega\\omega_{n})^2} \\left[ (\\omega_{n}^2 - \\omega^2)\\sin\\omega t - 2\\omega\\omega_{n}\\zeta\\cos\\omega t \\right]\n",
    "\\tag{1.114a}\n",
    "\\end{align}"
   ]
  },
  {
   "cell_type": "markdown",
   "metadata": {},
   "source": [
    "## Answer\n",
    "\n",
    "Take the first and second derivatives of Eq. (1.114a)\n",
    "\n",
    "\\begin{align*}\n",
    "\\dot{x} &= -\\zeta \\omega_{n} e^{-\\zeta \\omega_{n} t} \\left(A \\sin \\omega_{d} t + B \\cos \\omega_{d} t \\right) + e^{-\\zeta \\omega_{n} t} \\left(A \\omega_{d} \\cos \\omega_{d} t - B \\omega_{d} \\sin \\omega_{d} t \\right)\\\\\n",
    "&+ \\frac{F_{0}/m}{(\\omega_{n}^2 - \\omega^2)^2 + (2\\omega\\omega_{n})^2} \\left[ \\omega (\\omega_{n}^2 - \\omega^2)\\cos\\omega t + 2\\omega^2\\omega_{n}\\zeta\\sin\\omega t \\right]\n",
    "\\end{align*}"
   ]
  }
 ]
}