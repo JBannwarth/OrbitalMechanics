{
 "metadata": {
  "language_info": {
   "codemirror_mode": {
    "name": "ipython",
    "version": 3
   },
   "file_extension": ".py",
   "mimetype": "text/x-python",
   "name": "python",
   "nbconvert_exporter": "python",
   "pygments_lexer": "ipython3",
   "version": 3
  },
  "orig_nbformat": 2
 },
 "nbformat": 4,
 "nbformat_minor": 2,
 "cells": [
  {
   "cell_type": "markdown",
   "metadata": {},
   "source": [
    "# Orbital Mechanics for Engineering Students Problem 1.17\n",
    "Jérémie X. J. Bannwarth"
   ]
  },
  {
   "cell_type": "markdown",
   "metadata": {},
   "source": [
    "## Question\n",
    "Prove that the constants $A$ and $B$ in Eq. (1.114a) are given by Eq. (1.114b).\n",
    "\n",
    "Eq. (1.114a):\n",
    "$$x = e^{-\\zeta \\omega_{n} t} \\left(A \\sin \\omega_{d} t + B \\cos \\omega_{d} t \\right) + \\frac{F_{0}/m}{(\\omega_{n}^2 - \\omega^2)^2 + (2\\omega\\omega_{n})^2} \\left[ (\\omega_{n}^2 - \\omega^2)\\sin\\omega t - 2\\omega\\omega_{n}\\zeta\\cos\\omega t \\right]$$\n",
    "\n",
    "Eq. (1.114b):\n",
    "\n",
    "$$\\begin{align} A& = \\zeta \\frac{\\omega_{n}}{\\omega_{d}}x_{0} + \\frac{\\dot{x}_{0}}{\\omega_{d}} + \\frac{\\omega^2 + (2\\zeta^2 -1)\\omega_{n}^2}{(\\omega_{n}^2 - \\omega^2)^2 + (2 \\omega \\omega_{n}\\zeta)^2} \\frac{\\omega}{\\omega_{d}} \\frac{F_{0}}{m}\\\\ B &= x_{0} + \\frac{2\\omega\\omega_n\\zeta}{(\\omega_{n}^2 - \\omega^2)^2 + (2 \\omega \\omega_{n}\\zeta)^2} \\frac{F_0}{m} \\end{align} \\tag{1.114b}$$"
   ]
  },
  {
   "cell_type": "markdown",
   "metadata": {},
   "source": [
    "## Answer\n",
    "\n",
    "### Find $B$\n",
    "\n",
    "$$x_0 = B - \\frac{F_{0}/m}{(\\omega_{n}^2 - \\omega^2)^2 + (2\\omega\\omega_{n})^2} 2\\omega\\omega_{n}\\zeta$$\n",
    "\n",
    "$$\\therefore B = x_{0} + \\frac{2\\omega\\omega_n\\zeta}{(\\omega_{n}^2 - \\omega^2)^2 + (2 \\omega \\omega_{n}\\zeta)^2} \\frac{F_0}{m} \\; \\square$$\n",
    "\n",
    "### Find $A$\n",
    "\n",
    "Differentiate Eq. (1.114a):\n",
    "\n",
    "\\begin{align*}\n",
    "\\dot{x} &= -\\zeta \\omega_{n} e^{-\\zeta \\omega_{n} t} \\left(A \\sin \\omega_{d} t + B \\cos \\omega_{d} t \\right) + e^{-\\zeta \\omega_{n} t} \\left(A \\omega_{d} \\cos \\omega_{d} t - B \\omega_{d} \\sin \\omega_{d} t \\right)\\\\\n",
    "&+ \\frac{F_{0}/m}{(\\omega_{n}^2 - \\omega^2)^2 + (2\\omega\\omega_{n})^2} \\left[ \\omega (\\omega_{n}^2 - \\omega^2)\\cos\\omega t + 2\\omega^2\\omega_{n}\\zeta\\sin\\omega t \\right]\n",
    "\\end{align*}\n",
    "\n",
    "Find the equation for the derivative at $t=0$:\n",
    "\n",
    "$$\\dot{x}_0 = -\\zeta \\omega_{n} B + A \\omega_{d} + \\frac{F_{0}/m}{(\\omega_{n}^2 - \\omega^2)^2 + (2\\omega\\omega_{n})^2} \\omega (\\omega_{n}^2 - \\omega^2)$$\n",
    "\n",
    "Make $A$ the subject:\n",
    "\n",
    "$$A = \\frac{\\dot{x}_0}{\\omega_{d}} + \\zeta \\frac{\\omega_{n}}{\\omega_{d}} B + \\frac{(\\omega^2 - \\omega_{n}^2)}{(\\omega_{n}^2 - \\omega^2)^2 + (2\\omega\\omega_{n})^2} \\frac{\\omega}{\\omega_{d}} \\frac{F_{0}}{m}$$\n",
    "\n",
    "Substitute $B$ in:\n",
    "\n",
    "$$A = \\frac{\\dot{x}_0}{\\omega_{d}} + \\zeta \\frac{\\omega_{n}}{\\omega_{d}} \\left( x_{0} + \\frac{2\\omega\\omega_n\\zeta}{(\\omega_{n}^2 - \\omega^2)^2 + (2 \\omega \\omega_{n}\\zeta)^2} \\frac{F_0}{m} \\right) + \\frac{(\\omega^2 - \\omega_{n}^2)}{(\\omega_{n}^2 - \\omega^2)^2 + (2\\omega\\omega_{n})^2} \\frac{\\omega}{\\omega_{d}} \\frac{F_{0}}{m}$$\n",
    "\n",
    "Simplify:\n",
    "\n",
    "$$A = \\zeta \\frac{\\omega_{n}}{\\omega_{d}} x_{0} + \\frac{\\dot{x}_0}{\\omega_{d}} + \\frac{2\\omega_n^2\\zeta^2}{(\\omega_{n}^2 - \\omega^2)^2 + (2 \\omega \\omega_{n}\\zeta)^2} \\frac{\\omega}{\\omega_{d}} \\frac{F_0}{m} + \\frac{(\\omega^2 - \\omega_{n}^2)}{(\\omega_{n}^2 - \\omega^2)^2 + (2\\omega\\omega_{n})^2} \\frac{\\omega}{\\omega_{d}} \\frac{F_{0}}{m}$$\n",
    "\n",
    "Combine the last two terms:\n",
    "\n",
    "$$A = \\zeta \\frac{\\omega_{n}}{\\omega_{d}} x_{0} + \\frac{\\dot{x}_0}{\\omega_{d}} + \\frac{2\\omega_n^2\\zeta^2 + \\omega^2 - \\omega_{n}^2}{(\\omega_{n}^2 - \\omega^2)^2 + (2\\omega\\omega_{n})^2} \\frac{\\omega}{\\omega_{d}} \\frac{F_{0}}{m}$$\n",
    "\n",
    "$$\\therefore A = \\zeta \\frac{\\omega_{n}}{\\omega_{d}}x_{0} + \\frac{\\dot{x}_{0}}{\\omega_{d}} + \\frac{\\omega^2 + (2\\zeta^2 -1)\\omega_{n}^2}{(\\omega_{n}^2 - \\omega^2)^2 + (2 \\omega \\omega_{n}\\zeta)^2} \\frac{\\omega}{\\omega_{d}} \\frac{F_{0}}{m} \\; \\square$$"
   ]
  }
 ]
}